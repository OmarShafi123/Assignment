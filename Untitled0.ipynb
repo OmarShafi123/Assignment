{
  "nbformat": 4,
  "nbformat_minor": 0,
  "metadata": {
    "colab": {
      "provenance": [],
      "authorship_tag": "ABX9TyO5rQxciOoHLs3uMgnT36t4",
      "include_colab_link": true
    },
    "kernelspec": {
      "name": "python3",
      "display_name": "Python 3"
    },
    "language_info": {
      "name": "python"
    }
  },
  "cells": [
    {
      "cell_type": "markdown",
      "metadata": {
        "id": "view-in-github",
        "colab_type": "text"
      },
      "source": [
        "<a href=\"https://colab.research.google.com/github/OmarShafi123/Assignment/blob/main/Untitled0.ipynb\" target=\"_parent\"><img src=\"https://colab.research.google.com/assets/colab-badge.svg\" alt=\"Open In Colab\"/></a>"
      ]
    },
    {
      "cell_type": "code",
      "execution_count": null,
      "metadata": {
        "id": "_LJ3oEiQrdv7"
      },
      "outputs": [],
      "source": [
        "class Device:\n",
        "    def __init__(self, device_id, name, device_type, settings):\n",
        "        self.device_id = device_id  # Initialize the device ID\n",
        "        self.name = name  # Initialize the device name\n",
        "        self.device_type = device_type  # Initialize the device type\n",
        "        self.settings = settings  # Initialize the device settings\n",
        "        self.is_online = True  # Assume devices are online by default\n",
        "\n",
        "    def __str__(self):\n",
        "        return f\"{self.name} ({self.device_type}) - {'Online' if self.is_online else 'Offline'}\"  # String representation of device status\n",
        "\n",
        "\n",
        "class DeviceManager:\n",
        "    def __init__(self):\n",
        "        self.devices = {}  # Hash map for quick access to devices by ID\n",
        "\n",
        "    def add_device(self, device_id, name, device_type, settings):\n",
        "        if device_id in self.devices:  # Check if the device ID already exists\n",
        "            print(f\"Device with ID {device_id} already exists.\")  # Print error message if it exists\n",
        "        else:\n",
        "            self.devices[device_id] = Device(device_id, name, device_type, settings)  # Create and add new Device object\n",
        "            print(f\"Device {name} added successfully.\")  # Confirmation message\n",
        "\n",
        "    def remove_device(self, device_id):\n",
        "        if device_id in self.devices:  # Check if the device ID exists\n",
        "            del self.devices[device_id]  # Delete the device from the dictionary\n",
        "            print(f\"Device with ID {device_id} removed successfully.\")  # Confirmation message\n",
        "        else:\n",
        "            print(f\"Device with ID {device_id} not found.\")  # Print error message if not found\n",
        "\n",
        "    def update_device(self, device_id, settings):\n",
        "        if device_id in self.devices:  # Check if the device ID exists\n",
        "            self.devices[device_id].settings = settings  # Update the device settings\n",
        "            print(f\"Device {device_id} updated successfully.\")  # Confirmation message\n",
        "        else:\n",
        "            print(f\"Device with ID {device_id} not found.\")  # Print error message if not found\n",
        "\n",
        "    def get_device_status(self, device_id):\n",
        "        if device_id in self.devices:  # Check if the device ID exists\n",
        "            return str(self.devices[device_id])  # Return the string representation of the device status\n",
        "        else:\n",
        "            return f\"Device with ID {device_id} not found.\"  # Print error message if not found\n",
        "\n",
        "    def execute_command(self, device_id, command):\n",
        "        if device_id in self.devices:  # Check if the device ID exists\n",
        "            device = self.devices[device_id]  # Get the device object\n",
        "            if command == \"toggle\":  # Check if the command is to toggle the device status\n",
        "                device.is_online = not device.is_online  # Toggle the online status\n",
        "                print(f\"Toggled device {device.name} to {'Online' if device.is_online else 'Offline'}.\")  # Confirmation message\n",
        "            else:\n",
        "                print(f\"Command '{command}' not recognized for device {device.name}.\")  # Print error message for unrecognized command\n",
        "        else:\n",
        "            print(f\"Device with ID {device_id} not found.\")  # Print error message if not found\n",
        "\n",
        "\n",
        "# Example usage\n",
        "if __name__ == \"__main__\":\n",
        "    manager = DeviceManager()  # Create an instance of DeviceManager\n",
        "\n",
        "    # Adding devices\n",
        "    manager.add_device(\"1\", \"Living Room Light\", \"Light\", {\"brightness\": 75})  # Add Living Room Light\n",
        "    manager.add_device(\"2\", \"Thermostat\", \"Thermostat\", {\"temperature\": 22})  # Add Thermostat\n",
        "    manager.add_device(\"3\", \"Security Camera\", \"Camera\", {\"resolution\": \"1080p\"})  # Add Security Camera\n",
        "\n",
        "    # Getting device status\n",
        "    print(manager.get_device_status(\"1\"))  # Print status of Living Room Light\n",
        "    print(manager.get_device_status(\"2\"))  # Print status of Thermostat\n",
        "\n",
        "    # Executing commands\n",
        "    manager.execute_command(\"1\", \"toggle\")  # Toggle the status of Living Room Light\n",
        "    print(manager.get_device_status(\"1\"))  # Print updated status of Living Room Light\n",
        "\n",
        "    # Updating device settings\n",
        "    manager.update_device(\"2\", {\"temperature\": 20})  # Update Thermostat settings\n",
        "    print(manager.get_device_status(\"2\"))  # Print updated status of Thermostat\n",
        "\n",
        "    # Removing a device\n",
        "    manager.remove_device(\"3\")  # Remove Security Camera\n",
        "    print(manager.get_device_status(\"3\"))  # Attempt to print status of removed device"
      ]
    }
  ]
}