{
  "nbformat": 4,
  "nbformat_minor": 0,
  "metadata": {
    "colab": {
      "provenance": [],
      "authorship_tag": "ABX9TyOYLic+jwRgzLajuq+/Xxng",
      "include_colab_link": true
    },
    "kernelspec": {
      "name": "python3",
      "display_name": "Python 3"
    },
    "language_info": {
      "name": "python"
    }
  },
  "cells": [
    {
      "cell_type": "markdown",
      "metadata": {
        "id": "view-in-github",
        "colab_type": "text"
      },
      "source": [
        "<a href=\"https://colab.research.google.com/github/OmarShafi123/Assignment/blob/main/Untitled0.ipynb\" target=\"_parent\"><img src=\"https://colab.research.google.com/assets/colab-badge.svg\" alt=\"Open In Colab\"/></a>"
      ]
    },
    {
      "cell_type": "code",
      "execution_count": null,
      "metadata": {
        "id": "_LJ3oEiQrdv7"
      },
      "outputs": [],
      "source": [
        "class Device:\n",
        "    def __init__(self, device_id, name, device_type, settings):\n",
        "        self.device_id = device_id\n",
        "        self.name = name\n",
        "        self.device_type = device_type\n",
        "        self.settings = settings\n",
        "        self.is_online = True  # Assume devices are online by default\n",
        "\n",
        "    def __str__(self):\n",
        "        return f\"{self.name} ({self.device_type}) - {'Online' if self.is_online else 'Offline'}\"\n",
        "\n",
        "\n",
        "class DeviceManager:\n",
        "    def __init__(self):\n",
        "        self.devices = {}  # Hash map for quick access to devices by ID\n",
        "\n",
        "    def add_device(self, device_id, name, device_type, settings):\n",
        "        if device_id in self.devices:\n",
        "            print(f\"Device with ID {device_id} already exists.\")\n",
        "        else:\n",
        "            self.devices[device_id] = Device(device_id, name, device_type, settings)\n",
        "            print(f\"Device {name} added successfully.\")\n",
        "\n",
        "    def remove_device(self, device_id):\n",
        "        if device_id in self.devices:\n",
        "            del self.devices[device_id]\n",
        "            print(f\"Device with ID {device_id} removed successfully.\")\n",
        "        else:\n",
        "            print(f\"Device with ID {device_id} not found.\")\n",
        "\n",
        "    def update_device(self, device_id, settings):\n",
        "        if device_id in self.devices:\n",
        "            self.devices[device_id].settings = settings\n",
        "            print(f\"Device {device_id} updated successfully.\")\n",
        "        else:\n",
        "            print(f\"Device with ID {device_id} not found.\")\n",
        "\n",
        "    def get_device_status(self, device_id):\n",
        "        if device_id in self.devices:\n",
        "            return str(self.devices[device_id])\n",
        "        else:\n",
        "            return f\"Device with ID {device_id} not found.\"\n",
        "\n",
        "    def execute_command(self, device_id, command):\n",
        "        if device_id in self.devices:\n",
        "            device = self.devices[device_id]\n",
        "            if command == \"toggle\":\n",
        "                device.is_online = not device.is_online\n",
        "                print(f\"Toggled device {device.name} to {'Online' if device.is_online else 'Offline'}.\")\n",
        "            else:\n",
        "                print(f\"Command '{command}' not recognized for device {device.name}.\")\n",
        "        else:\n",
        "            print(f\"Device with ID {device_id} not found.\")\n",
        "\n",
        "\n",
        "# Example usage\n",
        "if __name__ == \"__main__\":\n",
        "    manager = DeviceManager()\n",
        "\n",
        "    # Adding devices\n",
        "    manager.add_device(\"1\", \"Living Room Light\", \"Light\", {\"brightness\": 75})\n",
        "    manager.add_device(\"2\", \"Thermostat\", \"Thermostat\", {\"temperature\": 22})\n",
        "    manager.add_device(\"3\", \"Security Camera\", \"Camera\", {\"resolution\": \"1080p\"})\n",
        "\n",
        "    # Getting device status\n",
        "    print(manager.get_device_status(\"1\"))\n",
        "    print(manager.get_device_status(\"2\"))\n",
        "\n",
        "    # Executing commands\n",
        "    manager.execute_command(\"1\", \"toggle\")\n",
        "    print(manager.get_device_status(\"1\"))\n",
        "\n",
        "    # Updating device settings\n",
        "    manager.update_device(\"2\", {\"temperature\": 20})\n",
        "    print(manager.get_device_status(\"2\"))\n",
        "\n",
        "    # Removing a device\n",
        "    manager.remove_device(\"3\")\n",
        "    print(manager.get_device_status(\"3\"))"
      ]
    }
  ]
}